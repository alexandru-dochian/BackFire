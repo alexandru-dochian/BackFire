{
 "cells": [
  {
   "cell_type": "markdown",
   "id": "dee4aaa6",
   "metadata": {},
   "source": [
    "# Imports"
   ]
  },
  {
   "cell_type": "code",
   "execution_count": 115,
   "id": "d7321d77",
   "metadata": {},
   "outputs": [],
   "source": [
    "# Python code\n",
    "import typing\n",
    "from abc import ABC, abstractmethod\n",
    "\n",
    "# Data sets\n",
    "from keras.datasets import mnist\n",
    "\n",
    "# Computation\n",
    "import tensorflow as tf\n",
    "from sklearn.ensemble import RandomForestClassifier\n",
    "import numpy as np\n",
    "import random\n",
    "\n",
    "# Metrics\n",
    "from sklearn import metrics"
   ]
  },
  {
   "cell_type": "markdown",
   "id": "518fd28d",
   "metadata": {},
   "source": [
    "# Load data set"
   ]
  },
  {
   "cell_type": "code",
   "execution_count": 116,
   "id": "4f415666",
   "metadata": {},
   "outputs": [
    {
     "name": "stdout",
     "output_type": "stream",
     "text": [
      "Shape before:  (60000, 28, 28)\n",
      "Shape after:  (60000, 784)\n"
     ]
    }
   ],
   "source": [
    "(X_train, y_train), (X_test, y_test) = mnist.load_data()\n",
    "\n",
    "print(\"Shape before: \", X_train.shape)\n",
    "X_train = X_train.reshape(int(X_train.shape[0]), int(X_train.shape[1] * X_train.shape[2]))\n",
    "print(\"Shape after: \", X_train.shape)\n",
    "\n",
    "# reshape X_test as well\n",
    "X_test = X_test.reshape(int(X_test.shape[0]), int(X_test.shape[1] * X_test.shape[2]))"
   ]
  },
  {
   "cell_type": "markdown",
   "id": "64dc9520",
   "metadata": {},
   "source": [
    "# Models"
   ]
  },
  {
   "cell_type": "code",
   "execution_count": 117,
   "id": "5c1761e2",
   "metadata": {},
   "outputs": [],
   "source": [
    "class Model(ABC):\n",
    "    @staticmethod\n",
    "    def compute_metrics(y_actual: np.array, y_predicted : np.array):\n",
    "        accuracy_score = metrics.accuracy_score(y_actual, y_predicted)\n",
    "        precision_score = metrics.precision_score(y_actual, y_predicted, average=None)\n",
    "        recall_score = metrics.recall_score(y_actual, y_predicted, average=None)\n",
    "        f1_score = metrics.f1_score(y_actual, y_predicted, average=None)\n",
    "        confusion_matrix = metrics.confusion_matrix(y_actual, y_predicted)\n",
    "        \n",
    "        return {\n",
    "            \"accuracy_score\": accuracy_score,\n",
    "            \"precision_score\": precision_score,\n",
    "            \"recall_score\": recall_score,\n",
    "            \"f1_score\": f1_score,\n",
    "            \"confusion_matrix\": confusion_matrix\n",
    "        }\n",
    "\n",
    "    def __init__(self):\n",
    "        pass\n",
    "    \n",
    "    @abstractmethod\n",
    "    def load(self, X_train: np.array, y_train: np.array):\n",
    "        pass\n",
    "    \n",
    "    @abstractmethod\n",
    "    def train(self):\n",
    "        pass\n",
    "    \n",
    "    @abstractmethod\n",
    "    def evaluate(self, X_test: np.array, y_test: np.array):\n",
    "        pass\n",
    "    \n",
    "    @abstractmethod\n",
    "    def print_metrics(self):\n",
    "        pass"
   ]
  },
  {
   "cell_type": "code",
   "execution_count": 118,
   "id": "ddcb8ea3",
   "metadata": {},
   "outputs": [],
   "source": [
    "class DummyClassifier(Model):\n",
    "    def __init__(self, kwargs):\n",
    "        self.kwargs = kwargs\n",
    "    \n",
    "    def load(self, X_train: np.array, y_train: np.array):\n",
    "        self.X_train = X_train\n",
    "        self.y_train = y_train\n",
    "        self.number_of_classes = tf.keras.utils.to_categorical(y_train).shape[1]\n",
    "\n",
    "    def train(self):\n",
    "        pass\n",
    "    \n",
    "    def evaluate(self, X_test: np.array, y_test: np.array):\n",
    "        y_predicted = [random.choice(range(self.number_of_classes)) for _ in range(y_test.size)] \n",
    "        self.metrics = Model.compute_metrics(y_test, y_predicted)\n",
    "\n",
    "    def print_metrics(self):\n",
    "        if self.metrics:\n",
    "            print(self.metrics)"
   ]
  },
  {
   "cell_type": "code",
   "execution_count": 119,
   "id": "1b69dc08",
   "metadata": {},
   "outputs": [],
   "source": [
    "class NotDummyClassifier(Model):\n",
    "    def __init__(self, kwargs):\n",
    "        self.kwargs = kwargs\n",
    "        self.actual_instance = RandomForestClassifier()\n",
    "    \n",
    "    def load(self, X_train: np.array, y_train: np.array):\n",
    "        self.X_train = X_train\n",
    "        self.y_train = y_train\n",
    "        self.number_of_classes = tf.keras.utils.to_categorical(y_train).shape[1]\n",
    "\n",
    "    def train(self):\n",
    "        self.actual_instance.fit(X_train, y_train)\n",
    "    \n",
    "    def evaluate(self, X_test: np.array, y_test: np.array):\n",
    "        y_predicted = self.actual_instance.predict(X_test) \n",
    "        self.metrics = Model.compute_metrics(y_test, y_predicted)\n",
    "\n",
    "    def print_metrics(self):\n",
    "        if self.metrics:\n",
    "            print(self.metrics)"
   ]
  },
  {
   "cell_type": "markdown",
   "id": "ebe23c74",
   "metadata": {},
   "source": [
    "# Test"
   ]
  },
  {
   "cell_type": "code",
   "execution_count": 120,
   "id": "197b0bea",
   "metadata": {},
   "outputs": [],
   "source": [
    "class Test:\n",
    "    def __init__(self, model_instance : Model):\n",
    "        self.model_instance = model_instance\n",
    "        \n",
    "    def run(self, X_train: np.array, y_train: np.array, X_test: np.array, y_test: np.array):\n",
    "        self.model_instance.load(X_train, y_train)\n",
    "        self.model_instance.train()\n",
    "        self.model_instance.evaluate(X_test, y_test)\n",
    "        self.model_instance.print_metrics()\n"
   ]
  },
  {
   "cell_type": "code",
   "execution_count": 121,
   "id": "03cd10b1",
   "metadata": {},
   "outputs": [
    {
     "name": "stdout",
     "output_type": "stream",
     "text": [
      "{'accuracy_score': 0.0962, 'precision_score': array([0.08587786, 0.08195122, 0.09465021, 0.09414025, 0.10301769,\n",
      "       0.09567901, 0.1003009 , 0.10275424, 0.0979021 , 0.10683349]), 'recall_score': array([0.09183673, 0.07400881, 0.08914729, 0.0970297 , 0.10081466,\n",
      "       0.10426009, 0.10438413, 0.09435798, 0.10061602, 0.11000991]), 'f1_score': array([0.0887574 , 0.07777778, 0.09181637, 0.09556314, 0.10190427,\n",
      "       0.09978541, 0.10230179, 0.09837728, 0.09924051, 0.10839844]), 'confusion_matrix': array([[ 90, 122, 111,  96,  99,  89,  95,  83,  89, 106],\n",
      "       [122,  84, 110, 113, 101, 125, 117, 116, 124, 123],\n",
      "       [ 98, 124,  92, 104, 103,  90,  95, 106, 121,  99],\n",
      "       [118,  98, 102,  98, 104,  88,  96,  97, 105, 104],\n",
      "       [109, 104,  88, 110,  99,  88, 111,  86,  92,  95],\n",
      "       [103,  93,  84, 103,  79,  93,  89,  77,  79,  92],\n",
      "       [ 92,  93,  87, 106,  79, 103, 100,  97, 100, 101],\n",
      "       [108, 101, 101, 119,  97, 107,  87,  97,  98, 113],\n",
      "       [104,  97, 100, 101,  98,  82, 104,  95,  98,  95],\n",
      "       [104, 109,  97,  91, 102, 107, 103,  90,  95, 111]])}\n"
     ]
    }
   ],
   "source": [
    "Test(\\\n",
    "    DummyClassifier(kwargs=dict())).\\\n",
    "        run(X_train, y_train, X_test, y_test)"
   ]
  },
  {
   "cell_type": "code",
   "execution_count": 122,
   "id": "ce66e379",
   "metadata": {},
   "outputs": [
    {
     "name": "stdout",
     "output_type": "stream",
     "text": [
      "{'accuracy_score': 0.9698, 'precision_score': array([0.97097097, 0.98943662, 0.96061479, 0.95767717, 0.97341513,\n",
      "       0.96959459, 0.97703549, 0.97154073, 0.96881497, 0.95712861]), 'recall_score': array([0.98979592, 0.99030837, 0.96899225, 0.96336634, 0.9694501 ,\n",
      "       0.96524664, 0.97703549, 0.96303502, 0.95687885, 0.95143707]), 'f1_score': array([0.98029308, 0.9898723 , 0.96478534, 0.96051333, 0.97142857,\n",
      "       0.96741573, 0.97703549, 0.96726917, 0.96280992, 0.95427435]), 'confusion_matrix': array([[ 970,    0,    1,    0,    0,    3,    3,    1,    1,    1],\n",
      "       [   0, 1124,    2,    3,    0,    2,    2,    0,    1,    1],\n",
      "       [   6,    1, 1000,    5,    2,    1,    2,    9,    6,    0],\n",
      "       [   0,    0,   11,  973,    0,    6,    0,    9,    6,    5],\n",
      "       [   2,    0,    1,    0,  952,    0,    7,    1,    2,   17],\n",
      "       [   3,    0,    0,   15,    2,  861,    5,    2,    3,    1],\n",
      "       [   7,    3,    0,    1,    3,    6,  936,    0,    2,    0],\n",
      "       [   1,    2,   18,    3,    1,    0,    0,  990,    2,   11],\n",
      "       [   5,    0,    6,    5,    7,    7,    2,    3,  932,    7],\n",
      "       [   5,    6,    2,   11,   11,    2,    1,    4,    7,  960]])}\n"
     ]
    }
   ],
   "source": [
    "Test(\\\n",
    "    NotDummyClassifier(kwargs=dict())).\\\n",
    "        run(X_train, y_train, X_test, y_test)"
   ]
  },
  {
   "cell_type": "code",
   "execution_count": null,
   "id": "96af05d5",
   "metadata": {},
   "outputs": [],
   "source": []
  }
 ],
 "metadata": {
  "kernelspec": {
   "display_name": "Python 3.8.10 64-bit",
   "language": "python",
   "name": "python3"
  },
  "language_info": {
   "codemirror_mode": {
    "name": "ipython",
    "version": 3
   },
   "file_extension": ".py",
   "mimetype": "text/x-python",
   "name": "python",
   "nbconvert_exporter": "python",
   "pygments_lexer": "ipython3",
   "version": "3.8.10"
  },
  "vscode": {
   "interpreter": {
    "hash": "916dbcbb3f70747c44a77c7bcd40155683ae19c65e1c03b4aa3499c5328201f1"
   }
  }
 },
 "nbformat": 4,
 "nbformat_minor": 5
}
